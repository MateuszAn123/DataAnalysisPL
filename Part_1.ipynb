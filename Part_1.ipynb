{
 "cells": [
  {
   "cell_type": "markdown",
   "metadata": {},
   "source": [
    "## Data preprocessing and cleaning"
   ]
  },
  {
   "cell_type": "markdown",
   "metadata": {},
   "source": [
    "## Our goal of database is to define a style of each team in Premier League (English Top Football League) and then try to predict result of a match (Win-Draw-Lose) based on opponent and its playing style."
   ]
  },
  {
   "cell_type": "code",
   "execution_count": null,
   "metadata": {},
   "outputs": [],
   "source": [
    "# Import and load data\n",
    "import pandas as pd\n",
    "\n",
    "teams_stats_goals = pd.read_csv(\"TeamsPremierLeagueGoals.csv\")\n",
    "teams_stats = pd.read_csv(\"TeamsPremierLeague.csv\")\n",
    "matches = pd.read_csv(\"Matches.csv\")"
   ]
  },
  {
   "cell_type": "code",
   "execution_count": null,
   "metadata": {},
   "outputs": [],
   "source": [
    "# Check for missing values\n",
    "print(matches.isnull().sum())\n",
    "print(teams_stats_goals.isnull().sum())\n",
    "print(teams_stats.isnull().sum())\n",
    "\n",
    "# There are no missing values in the datasets and no outliers "
   ]
  },
  {
   "cell_type": "code",
   "execution_count": null,
   "metadata": {},
   "outputs": [],
   "source": [
    "# Drop columns that are not needed for analysis\n",
    "teams_stats_goals = teams_stats_goals.drop(['Age','MP','Starts','Min','90s'],axis=1)\n",
    "teams_stats = teams_stats.drop(['90s','Touches','Live','Succ','Tkld','PrgC','Mis','Dis','PrgR'],axis=1)\n",
    "matches = matches.drop(['Day','Date','Day Date','Year Date','Venue','Referee'],axis=1)"
   ]
  },
  {
   "cell_type": "code",
   "execution_count": null,
   "metadata": {},
   "outputs": [],
   "source": [
    "# Data preparation - matches dataset\n",
    "\n",
    "# Rename columns for better readability\n",
    "matches = matches.rename(columns={\n",
    "                                    'Home': 'HomeTeam',\n",
    "                                    'Away': 'AwayTeam',\n",
    "                                    'xG Home': 'xG_Home',\n",
    "                                    'xG Away': 'xG_Away',\n",
    "                                    'Month Date':'Month',\n",
    "                                    'Wk': 'Week'\n",
    "                            })\n",
    "\n",
    "# Set time into 3 zones: morning, afternoon, evening\n",
    "def time_of_day(hour):\n",
    "    if hour <= 12:\n",
    "        return 'Morning'\n",
    "    elif hour <= 18:\n",
    "        return 'Afternoon'\n",
    "    else:\n",
    "        return 'Evening'\n",
    "    \n",
    "matches['Time'] = pd.to_datetime(matches['Time'], format='%H:%M').dt.hour\n",
    "matches['Time'] = matches['Time'].apply(time_of_day)\n",
    "\n",
    "print(matches)"
   ]
  },
  {
   "cell_type": "code",
   "execution_count": null,
   "metadata": {},
   "outputs": [],
   "source": [
    "# Data preparation - teams_stats dataset \n",
    "print(teams_stats)"
   ]
  },
  {
   "cell_type": "code",
   "execution_count": null,
   "metadata": {},
   "outputs": [],
   "source": []
  },
  {
   "cell_type": "code",
   "execution_count": null,
   "metadata": {},
   "outputs": [],
   "source": [
    "# Split data frame into two: test_df and train_df \n",
    "# For classifier, we will use 2023 season as training data and 2024 season as test data\n",
    "# For predictor, we will use 2023 season as training data and 2024 season as test data\n",
    "\n",
    "#TODO: ATTENTION !!!! \n",
    "#TODO: PLEASE DO NOT USE TEST DATA FOR TRAINING THE MODEL\n",
    "print(matches['Season'].dtype)\n",
    "train_df = matches[matches['Season'] == 2023]\n",
    "test_df = matches[matches['Season'] == 2024]\n",
    "\n",
    "#print(train_df)"
   ]
  },
  {
   "cell_type": "code",
   "execution_count": null,
   "metadata": {},
   "outputs": [],
   "source": [
    "print(\"Matches\")\n",
    "print(train_df.head())\n",
    "\n",
    "print(\"teams Stats Goals\")    \n",
    "print(teams_stats_goals.head())\n",
    "\n",
    "print(\"General Teams Stats\")\n",
    "print(teams_stats.head())\n",
    "\n",
    "print(teams_stats_goals.columns)"
   ]
  },
  {
   "cell_type": "markdown",
   "metadata": {},
   "source": [
    "Now we are checking correlation between xG with Goals  "
   ]
  },
  {
   "cell_type": "code",
   "execution_count": null,
   "metadata": {},
   "outputs": [],
   "source": [
    "\n",
    "home_corr = train_df['xG_Home'].corr(train_df['Home_Score'])\n",
    "away_corr = train_df['xG_Away'].corr(train_df['Away_Score'])\n",
    "\n",
    "print(f\"Correlation between xG Home and Home Score: {home_corr:.3f}\")\n",
    "print(f\"Correlation between xG Away and Away Score: {away_corr:.3f}\")\n",
    "\n",
    "\n",
    "# as we can see based on results xG and Goals are slightly correlated"
   ]
  },
  {
   "cell_type": "markdown",
   "metadata": {},
   "source": [
    "Before we checked for overall correlation of expected goals and actual goals\n",
    "\n",
    "Now we want to see if there exists a correlation for each team individually - maybe some teams perform as expected, whereas others are unpredictable"
   ]
  },
  {
   "cell_type": "code",
   "execution_count": null,
   "metadata": {},
   "outputs": [],
   "source": [
    "\n",
    "import matplotlib.pyplot as plt\n",
    "import seaborn as sns\n",
    "plt.figure(figsize=(10,6))\n",
    "sns.scatterplot(data=teams_stats_goals, x='xG', y='Gls')\n",
    "plt.plot([teams_stats_goals['xG'].min(), teams_stats_goals['xG'].max()],\n",
    "         [teams_stats_goals['xG'].min(), teams_stats_goals['xG'].max()],\n",
    "         color='red', linestyle='--')\n",
    "plt.xlabel('Expected Goals (xG)')\n",
    "plt.ylabel('Actual Goals (Goals)')\n",
    "plt.title('xG vs Goals for Each Team')\n",
    "plt.grid(True)\n",
    "plt.show()\n",
    "\n",
    "# each dot is one team, the red line is the reference line where actual goals are equal to expected goals\n",
    "# we see that some teams deviate from the average but there are no important outliers"
   ]
  },
  {
   "cell_type": "markdown",
   "metadata": {},
   "source": [
    "Now we want to check attendance's  influence on match"
   ]
  },
  {
   "cell_type": "code",
   "execution_count": null,
   "metadata": {},
   "outputs": [],
   "source": [
    "average_attendance = train_df.groupby('HomeTeam')['Attendance'].mean()\n",
    "\n",
    "# Define result for home team\n",
    "def home_result(row):\n",
    "    if row['Home_Score'] > row['Away_Score']:\n",
    "        return 'Win'\n",
    "    elif row['Home_Score'] == row['Away_Score']:\n",
    "        return 'Draw'\n",
    "    else:\n",
    "        return 'Lose'\n",
    "\n",
    "train_df['Home_Result'] = train_df.apply(home_result, axis=1)\n",
    "\n",
    "# Compare attendance to the venue's average\n",
    "train_df['Attendance_vs_Avg'] = train_df.apply(\n",
    "    lambda row: 'More than avg' if row['Attendance'] > average_attendance[row['HomeTeam']] else 'Less than avg',\n",
    "    axis=1\n",
    ")\n",
    "\n",
    "# Create a pivot table with counts\n",
    "result_table = train_df.pivot_table(\n",
    "    index='Home_Result',\n",
    "    columns='Attendance_vs_Avg',\n",
    "    aggfunc='size',\n",
    "    fill_value=0\n",
    ")\n",
    "\n",
    "print(result_table)\n"
   ]
  },
  {
   "cell_type": "code",
   "execution_count": null,
   "metadata": {},
   "outputs": [],
   "source": [
    "numeric_df = teams_stats[['Def Pen', 'Def 3rd', 'Mid 3rd', 'Att 3rd','Att Pen']]\n",
    "correlation_matrix = numeric_df.corr()\n",
    "print(correlation_matrix)\n",
    "\n",
    "import seaborn as sns\n",
    "import matplotlib.pyplot as plt\n",
    "\n",
    "sns.heatmap(correlation_matrix, annot=True, cmap='coolwarm')\n",
    "plt.title('Correlation Matrix Heatmap')\n",
    "plt.show()\n",
    "\n",
    "\n",
    "correlations_ball_possesion = teams_stats[['Poss', 'Def Pen', 'Def 3rd', 'Mid 3rd', 'Att 3rd','Att Pen']].corr().loc['Poss']\n",
    "print(correlations_ball_possesion)\n"
   ]
  },
  {
   "cell_type": "markdown",
   "metadata": {},
   "source": [
    "Teams with more possession tend to have more touches in the middle third. \n",
    "\n",
    "Teams with more possession have fewer touches in their defensive penalty area (because they are less often defending).\n",
    "\n",
    "There is no strong relationship between possession and touches in defensive third."
   ]
  },
  {
   "cell_type": "markdown",
   "metadata": {},
   "source": [
    "Correlation between Def Pen and Def 3rd: Teams that have more touches in the defensive penalty area also tend to have more touches in the defensive third.\n",
    "\n",
    "Correlation between Def Pen and Att 3rd: Teams that have more touches in their defensive penalty area slightly have fewer touches in the attacking third.\n",
    "\n",
    "Correlation between Mid 3rd and Att 3rd: Teams that dominate the middle third also dominate the attacking third — strong positive link."
   ]
  },
  {
   "cell_type": "code",
   "execution_count": null,
   "metadata": {},
   "outputs": [],
   "source": [
    "combined_df = pd.merge(teams_stats_goals[['Squad', 'Gls']], \n",
    "                       teams_stats[['Squad', 'Att 3rd', 'Att Pen']],\n",
    "                       on='Squad')\n",
    "\n",
    "# Now calculate correlations\n",
    "correlation_goals_touches = combined_df[['Gls', 'Att 3rd', 'Att Pen']].corr().loc['Gls']\n",
    "\n",
    "print(correlation_goals_touches)"
   ]
  },
  {
   "cell_type": "markdown",
   "metadata": {},
   "source": [
    "Those numbers prove that touches on opponent's half have impact on scored goals"
   ]
  },
  {
   "cell_type": "code",
   "execution_count": 51,
   "metadata": {},
   "outputs": [
    {
     "name": "stdout",
     "output_type": "stream",
     "text": [
      "              Squad                Style\n",
      "0           Arsenal    High Press Attack\n",
      "1       Aston Villa    Defensive Compact\n",
      "2       Bournemouth  Possession Build-up\n",
      "3         Brentford      Slow Possession\n",
      "4          Brighton       Counter Attack\n",
      "5           Burnley     Direct Long Ball\n",
      "6           Chelsea       Counter Attack\n",
      "7    Crystal Palace  Possession Build-up\n",
      "8           Everton  Possession Build-up\n",
      "9            Fulham     Direct Long Ball\n",
      "10        Liverpool    High Press Attack\n",
      "11       Luton Town  Possession Build-up\n",
      "12  Manchester City    High Press Attack\n",
      "13   Manchester Utd    Defensive Compact\n",
      "14    Newcastle Utd    Defensive Compact\n",
      "15  Nott'ham Forest  Possession Build-up\n",
      "16    Sheffield Utd  Possession Build-up\n",
      "17        Tottenham       Counter Attack\n",
      "18         West Ham  Possession Build-up\n",
      "19           Wolves     Direct Long Ball\n",
      "\n",
      "Cluster Summary Stats:\n",
      "\n"
     ]
    },
    {
     "data": {
      "image/png": "[encoded data removed]",
      "text/plain": [
       "<Figure size 1200x800 with 1 Axes>"
      ]
     },
     "metadata": {},
     "output_type": "display_data"
    }
   ],
   "source": [
    "import pandas as pd\n",
    "from sklearn.preprocessing import StandardScaler\n",
    "from sklearn.cluster import KMeans\n",
    "import matplotlib.pyplot as plt\n",
    "import matplotlib.patches as mpatches\n",
    "\n",
    "\n",
    "# Filter for Season 2024\n",
    "teams_stats = teams_stats[teams_stats['Season'] == 2024]\n",
    "teams_stats_goals = teams_stats_goals[teams_stats_goals['Season'] == 2024]\n",
    "\n",
    "# Merge important features together\n",
    "combined = pd.merge(\n",
    "    teams_stats[['Squad', 'Poss', 'Def Pen', 'Def 3rd', 'Mid 3rd', 'Att 3rd', 'Att Pen', 'Carries', 'TotDist', 'PrgDist', 'Rec']],\n",
    "    teams_stats_goals[['Squad', 'Gls', 'Ast', 'xG', 'npxG', 'xAG', 'PrgP']],\n",
    "    on='Squad'\n",
    ")\n",
    "\n",
    "# Features we care about\n",
    "features = ['Poss', 'Def Pen', 'Def 3rd', 'Mid 3rd', 'Att 3rd', 'Att Pen', \n",
    "            'Carries', 'TotDist', 'PrgDist', 'Rec', \n",
    "            'Gls', 'Ast', 'xG', 'npxG', 'xAG', 'PrgP']\n",
    "\n",
    "# Normalize the data\n",
    "scaler = StandardScaler()\n",
    "X_scaled = scaler.fit_transform(combined[features])\n",
    "\n",
    "# Apply KMeans clustering (let's assume 6 clusters based on richer playing styles)\n",
    "kmeans = KMeans(n_clusters=6, random_state=42)\n",
    "clusters = kmeans.fit_predict(X_scaled)\n",
    "\n",
    "# Add cluster labels to the DataFrame\n",
    "combined['Cluster'] = clusters\n",
    "\n",
    "# Initial mapping of styles (to be adjusted after analyzing stats)\n",
    "style_map = {\n",
    "    0: 'Possession Build-up',\n",
    "    1: 'Counter Attack',\n",
    "    2: 'Defensive Compact',\n",
    "    3: 'High Press Attack',\n",
    "    4: 'Direct Long Ball',\n",
    "    5: 'Slow Possession'\n",
    "}\n",
    "\n",
    "combined['Style'] = combined['Cluster'].map(style_map)\n",
    "\n",
    "# Display the result\n",
    "print(combined[['Squad', 'Style']])\n",
    "\n",
    "# Summarize stats per cluster\n",
    "cluster_summary = combined.groupby('Cluster')[features].mean().round(2)\n",
    "print(\"\\nCluster Summary Stats:\\n\")\n",
    "#print(cluster_summary)\n",
    "\n",
    "\n",
    "# Plot clusters for visualization \n",
    "plt.figure(figsize=(12,8))\n",
    "scatter = plt.scatter(X_scaled[:,0], X_scaled[:,4], c=clusters, cmap='viridis')\n",
    "\n",
    "# Team names on the plot\n",
    "for i, team in enumerate(combined['Squad']):\n",
    "    plt.text(X_scaled[i,0], X_scaled[i,4], team, fontsize=8, ha='right', va='bottom')\n",
    "\n",
    "# Create legend manually\n",
    "legend_labels = style_map\n",
    "handles = [mpatches.Patch(color=scatter.cmap(scatter.norm(i)), label=legend_labels[i]) for i in range(6)]\n",
    "plt.legend(handles=handles, title=\"Playing Style\")\n",
    "\n",
    "plt.xlabel('Possession (scaled)')\n",
    "plt.ylabel('Attacking 1/3 Touches (scaled)')\n",
    "plt.title('Team Playing Styles Clustering')\n",
    "plt.grid(True)\n",
    "plt.show()\n"
   ]
  },
  {
   "cell_type": "code",
   "execution_count": 52,
   "metadata": {},
   "outputs": [
    {
     "name": "stdout",
     "output_type": "stream",
     "text": [
      "\n",
      "Style Descriptions:\n",
      "\n",
      "                 Style                                        Description\n",
      "0  Possession Build-up  Some teams (Man City, Brighton) dominate posse...\n",
      "1       Counter Attack  Some teams (Aston Villa, Wolves) focus on fast...\n",
      "2    Defensive Compact  Teams like Sheffield United, Luton stay very d...\n",
      "3    High Press Attack  Teams like Liverpool or Arsenal press aggressi...\n",
      "4     Direct Long Ball  Brentford, Everton: long balls, skipping midfi...\n",
      "5      Slow Possession  Chelsea (bad form), Crystal Palace: slow passi...\n"
     ]
    }
   ],
   "source": [
    "style_descriptions = pd.DataFrame({\n",
    "    'Style': ['Possession Build-up', 'Counter Attack', 'Defensive Compact', 'High Press Attack', 'Direct Long Ball', 'Slow Possession'],\n",
    "    'Description': [\n",
    "        'Some teams (Man City, Brighton) dominate possession and build from the back.',\n",
    "        'Some teams (Aston Villa, Wolves) focus on fast attacks after defense.',\n",
    "        'Teams like Sheffield United, Luton stay very defensive, low possession.',\n",
    "        'Teams like Liverpool or Arsenal press aggressively.',\n",
    "        'Brentford, Everton: long balls, skipping midfield.',\n",
    "        'Chelsea (bad form), Crystal Palace: slow passing without much attacking progress.'\n",
    "    ]\n",
    "})\n",
    "\n",
    "print(\"\\nStyle Descriptions:\\n\")\n",
    "print(style_descriptions)"
   ]
  },
  {
   "cell_type": "code",
   "execution_count": 54,
   "metadata": {},
   "outputs": [
    {
     "name": "stdout",
     "output_type": "stream",
     "text": [
      "               Team        Best_vs_Style  Best_Avg_Points     Worst_vs_Style  \\\n",
      "0           Arsenal  Possession Build-up             2.58  High Press Attack   \n",
      "1       Aston Villa     Direct Long Ball             2.00  Defensive Compact   \n",
      "2       Bournemouth     Direct Long Ball             2.00  High Press Attack   \n",
      "3         Brentford  Possession Build-up             1.64  Defensive Compact   \n",
      "4          Brighton  Possession Build-up             1.72  High Press Attack   \n",
      "5           Burnley      Slow Possession             1.50  High Press Attack   \n",
      "6           Chelsea  Possession Build-up             2.22  High Press Attack   \n",
      "7    Crystal Palace     Direct Long Ball             1.91     Counter Attack   \n",
      "8           Everton      Slow Possession             2.50  Defensive Compact   \n",
      "9            Fulham  Possession Build-up             1.84  High Press Attack   \n",
      "10     Leeds United     Direct Long Ball             1.50  High Press Attack   \n",
      "11   Leicester City     Direct Long Ball             1.50  High Press Attack   \n",
      "12        Liverpool     Direct Long Ball             2.55  High Press Attack   \n",
      "13       Luton Town  Possession Build-up             1.21    Slow Possession   \n",
      "14  Manchester City  Possession Build-up             2.77  High Press Attack   \n",
      "15   Manchester Utd     Direct Long Ball             2.50  High Press Attack   \n",
      "16    Newcastle Utd      Slow Possession             3.00  High Press Attack   \n",
      "17  Nott'ham Forest  Possession Build-up             1.29    Slow Possession   \n",
      "18    Sheffield Utd      Slow Possession             1.50  High Press Attack   \n",
      "19      Southampton       Counter Attack             1.17   Direct Long Ball   \n",
      "20        Tottenham  Possession Build-up             2.44  High Press Attack   \n",
      "21         West Ham     Direct Long Ball             1.90  High Press Attack   \n",
      "22           Wolves      Slow Possession             1.75  High Press Attack   \n",
      "\n",
      "    Worst_Avg_Points  \n",
      "0               1.50  \n",
      "1               0.75  \n",
      "2               0.23  \n",
      "3               0.46  \n",
      "4               0.75  \n",
      "5               0.00  \n",
      "6               0.50  \n",
      "7               0.17  \n",
      "8               0.42  \n",
      "9               0.38  \n",
      "10              0.50  \n",
      "11              0.00  \n",
      "12              0.88  \n",
      "13              0.00  \n",
      "14              1.50  \n",
      "15              0.85  \n",
      "16              0.42  \n",
      "17              0.50  \n",
      "18              0.00  \n",
      "19              0.00  \n",
      "20              0.53  \n",
      "21              0.38  \n",
      "22              0.43  \n"
     ]
    }
   ],
   "source": [
    "\n",
    "team_styles_correct = dict(zip(combined['Squad'], combined['Style']))\n",
    "# Map styles into matches\n",
    "matches['Home_Style'] = matches['HomeTeam'].map(team_styles_correct)\n",
    "matches['Away_Style'] = matches['AwayTeam'].map(team_styles_correct)\n",
    "\n",
    "# Calculate Points for Home and Away teams\n",
    "def get_points(home_goals, away_goals):\n",
    "    if home_goals > away_goals:\n",
    "        return (3, 0)\n",
    "    elif home_goals == away_goals:\n",
    "        return (1, 1)\n",
    "    else:\n",
    "        return (0, 3)\n",
    "\n",
    "matches[['Home_Points', 'Away_Points']] = matches.apply(\n",
    "    lambda row: pd.Series(get_points(row['Home_Score'], row['Away_Score'])),\n",
    "    axis=1\n",
    ")\n",
    "\n",
    "# Prepare home and away results\n",
    "home_results = matches[['HomeTeam', 'Away_Style', 'Home_Points']].rename(columns={\n",
    "    'HomeTeam': 'Team',\n",
    "    'Away_Style': 'Opponent_Style',\n",
    "    'Home_Points': 'Points'\n",
    "})\n",
    "away_results = matches[['AwayTeam', 'Home_Style', 'Away_Points']].rename(columns={\n",
    "    'AwayTeam': 'Team',\n",
    "    'Home_Style': 'Opponent_Style',\n",
    "    'Away_Points': 'Points'\n",
    "})\n",
    "\n",
    "# Combine\n",
    "full_results = pd.concat([home_results, away_results])\n",
    "\n",
    "# Group by Team and Opponent Style\n",
    "performance = full_results.groupby(['Team', 'Opponent_Style']).agg(\n",
    "    Matches=('Points', 'count'),\n",
    "    Total_Points=('Points', 'sum')\n",
    ").reset_index()\n",
    "\n",
    "performance['Avg_Points'] = (performance['Total_Points'] / performance['Matches']).round(2)\n",
    "\n",
    "# Find best and worst vs styles\n",
    "best_vs = performance.loc[performance.groupby('Team')['Avg_Points'].idxmax()].reset_index(drop=True)\n",
    "worst_vs = performance.loc[performance.groupby('Team')['Avg_Points'].idxmin()].reset_index(drop=True)\n",
    "\n",
    "summary = best_vs[['Team', 'Opponent_Style', 'Avg_Points']].rename(columns={\n",
    "    'Opponent_Style': 'Best_vs_Style',\n",
    "    'Avg_Points': 'Best_Avg_Points'\n",
    "})\n",
    "summary['Worst_vs_Style'] = worst_vs['Opponent_Style']\n",
    "summary['Worst_Avg_Points'] = worst_vs['Avg_Points']\n",
    "\n",
    "print(summary)"
   ]
  },
  {
   "cell_type": "code",
   "execution_count": null,
   "metadata": {},
   "outputs": [
    {
     "name": "stdout",
     "output_type": "stream",
     "text": [
      "Result_Label\n",
      " 1    376\n",
      "-1    248\n",
      " 0    173\n",
      "Name: count, dtype: int64\n"
     ]
    }
   ],
   "source": [
    "# Decision Tree Classifier\n",
    "from sklearn.tree import DecisionTreeClassifier\n",
    "from sklearn.model_selection import train_test_split\n",
    "from sklearn.metrics import classification_report, confusion_matrix\n",
    "from sklearn.preprocessing import LabelEncoder\n",
    "from sklearn.metrics import accuracy_score, f1_score, precision_score, recall_score\n",
    "\n",
    "# Label: Home result (Win = 1, Draw = 0, Loss = -1)\n",
    "def result_label(home_goals, away_goals):\n",
    "    if home_goals > away_goals:\n",
    "        return 1\n",
    "    elif home_goals == away_goals:\n",
    "        return 0\n",
    "    else:\n",
    "        return -1\n",
    "\n",
    "matches['Result_Label'] = matches.apply(lambda row: result_label(row['Home_Score'], row['Away_Score']), axis=1)\n",
    "print(matches['Result_Label'].value_counts())\n",
    "\n",
    "style_encoder = LabelEncoder()\n",
    "matches['Home_Style_Enc'] = style_encoder.fit_transform(matches['Home_Style'])\n",
    "matches['Away_Style_Enc'] = style_encoder.transform(matches['Away_Style'])\n",
    "\n",
    "\n",
    "# Split data into training and testing sets (look up, it was done before)\n",
    "train_df = matches[matches['Season'] == 2023]\n",
    "test_df = matches[matches['Season'] == 2024]\n",
    "\n",
    "X_train = train_df[['Home_Style_Enc', 'Away_Style_Enc']]\n",
    "y_train = train_df['Result_Label']\n",
    "\n",
    "X_test = test_df[['Home_Style_Enc', 'Away_Style_Enc']]\n",
    "y_test = test_df['Result_Label']\n",
    "\n",
    "\n"
   ]
  },
  {
   "cell_type": "code",
   "execution_count": null,
   "metadata": {},
   "outputs": [
    {
     "name": "stdout",
     "output_type": "stream",
     "text": [
      "              precision    recall  f1-score   support\n",
      "\n",
      "          -1       0.53      0.58      0.55       139\n",
      "           0       0.27      0.14      0.18        86\n",
      "           1       0.60      0.69      0.64       192\n",
      "\n",
      "    accuracy                           0.54       417\n",
      "   macro avg       0.47      0.47      0.46       417\n",
      "weighted avg       0.51      0.54      0.52       417\n",
      "\n",
      "[[ 81  15  43]\n",
      " [ 30  12  44]\n",
      " [ 43  17 132]]\n"
     ]
    }
   ],
   "source": [
    "# Build and train the decison tree classifier\n",
    "\n",
    "clf = DecisionTreeClassifier(random_state=42)\n",
    "clf.fit(X_train, y_train)\n",
    "\n",
    "# Evaluate\n",
    "y_pred = clf.predict(X_test)\n",
    "print(classification_report(y_test, y_pred))\n",
    "print(confusion_matrix(y_test, y_pred))\n",
    "\n",
    "# How to interpert the confusion matrix:\n",
    "# Frist row: correctly classifies losses (0), draws classified as losses(1), wins classied as losses (2)\n",
    "# now our model is coorect 53% for losses, 27% for draws and 60% for wins"
   ]
  },
  {
   "cell_type": "code",
   "execution_count": null,
   "metadata": {},
   "outputs": [],
   "source": [
    "from sklearn.tree import plot_tree\n",
    "import matplotlib.pyplot as plt\n",
    "\n",
    "# Visualize the decision tree\n",
    "\n",
    "plt.figure(figsize=(12, 8))\n",
    "plot_tree(clf, feature_names=['Home_Style_Enc', 'Away_Style_Enc'], class_names=['Loss', 'Draw', 'Win'], filled=True)\n",
    "plt.show()"
   ]
  },
  {
   "cell_type": "markdown",
   "metadata": {},
   "source": [
    "We see that right now our model is not very good. It classifies corrrectly: losses 53%, draws 27% and wins 60% of the time. \n",
    "\n",
    "We must ask WHY our model is so bad at predicting draws. Maybe we need more features, maybe some additional calculations should be introduced."
   ]
  },
  {
   "cell_type": "markdown",
   "metadata": {},
   "source": [
    "Before changing datasets, lets check different models:\n",
    "1. Random Forest Classifier\n",
    "2. Gradient Boosting Classifier"
   ]
  },
  {
   "cell_type": "code",
   "execution_count": 66,
   "metadata": {},
   "outputs": [
    {
     "name": "stdout",
     "output_type": "stream",
     "text": [
      "=== Random Forest Classifier ===\n",
      "              precision    recall  f1-score   support\n",
      "\n",
      "          -1       0.58      0.50      0.54       139\n",
      "           0       0.25      0.09      0.14        86\n",
      "           1       0.57      0.79      0.66       192\n",
      "\n",
      "    accuracy                           0.55       417\n",
      "   macro avg       0.47      0.46      0.44       417\n",
      "weighted avg       0.51      0.55      0.51       417\n",
      "\n",
      "[[ 69   9  61]\n",
      " [ 24   8  54]\n",
      " [ 25  15 152]]\n"
     ]
    }
   ],
   "source": [
    "from sklearn.ensemble import RandomForestClassifier\n",
    "\n",
    "rf_model = RandomForestClassifier(n_estimators=100, random_state=42)\n",
    "rf_model.fit(X_train, y_train)\n",
    "\n",
    "rf_preds = rf_model.predict(X_test)\n",
    "\n",
    "print(\"=== Random Forest Classifier ===\")\n",
    "print(classification_report(y_test, rf_preds))\n",
    "print(confusion_matrix(y_test, rf_preds))\n"
   ]
  },
  {
   "cell_type": "code",
   "execution_count": 68,
   "metadata": {},
   "outputs": [
    {
     "name": "stdout",
     "output_type": "stream",
     "text": [
      "=== Gradient Boosting Classifier ===\n",
      "              precision    recall  f1-score   support\n",
      "\n",
      "          -1       0.54      0.45      0.49       139\n",
      "           0       0.33      0.06      0.10        86\n",
      "           1       0.54      0.81      0.65       192\n",
      "\n",
      "    accuracy                           0.53       417\n",
      "   macro avg       0.47      0.44      0.41       417\n",
      "weighted avg       0.50      0.53      0.48       417\n",
      "\n",
      "[[ 62   6  71]\n",
      " [ 21   5  60]\n",
      " [ 32   4 156]]\n"
     ]
    }
   ],
   "source": [
    "from sklearn.ensemble import GradientBoostingClassifier\n",
    "\n",
    "gb_model = GradientBoostingClassifier(n_estimators=100, random_state=42)\n",
    "gb_model.fit(X_train, y_train)\n",
    "\n",
    "gb_preds = gb_model.predict(X_test)\n",
    "\n",
    "print(\"=== Gradient Boosting Classifier ===\")\n",
    "print(classification_report(y_test, gb_preds))\n",
    "print(confusion_matrix(y_test, gb_preds))"
   ]
  },
  {
   "cell_type": "markdown",
   "metadata": {},
   "source": [
    "We see that with different models the performance is even worse. It gives us a thought that the problem lays with the data that we take into account.\n",
    "Let's go back to Decision trees, we want to use k-fold to cross-validate our model and see if we can reduce over/under-fitting that might be causing such low performence"
   ]
  },
  {
   "cell_type": "code",
   "execution_count": null,
   "metadata": {},
   "outputs": [],
   "source": [
    "#TODO: add more columns with some different metrics, combine dataset into one\n",
    "# maybe merging all columns before wasnt so good, and instead we should make more columns? "
   ]
  }
 ],
 "metadata": {
  "kernelspec": {
   "display_name": "Python 3",
   "language": "python",
   "name": "python3"
  },
  "language_info": {
   "codemirror_mode": {
    "name": "ipython",
    "version": 3
   },
   "file_extension": ".py",
   "mimetype": "text/x-python",
   "name": "python",
   "nbconvert_exporter": "python",
   "pygments_lexer": "ipython3",
   "version": "3.12.10"
  }
 },
 "nbformat": 4,
 "nbformat_minor": 2
}
